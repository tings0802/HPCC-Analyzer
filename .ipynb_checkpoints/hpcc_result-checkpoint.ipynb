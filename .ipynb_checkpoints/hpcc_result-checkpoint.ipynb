{
 "cells": [
  {
   "cell_type": "markdown",
   "metadata": {},
   "source": [
    "相對行數/絕對行數"
   ]
  },
  {
   "cell_type": "markdown",
   "metadata": {},
   "source": [
    "### Import modules"
   ]
  },
  {
   "cell_type": "code",
   "execution_count": 1,
   "metadata": {},
   "outputs": [],
   "source": [
    "import pandas as pd\n",
    "import matplotlib.pyplot as plt\n",
    "import numpy as np"
   ]
  },
  {
   "cell_type": "markdown",
   "metadata": {},
   "source": [
    "### Read file"
   ]
  },
  {
   "cell_type": "code",
   "execution_count": 2,
   "metadata": {},
   "outputs": [
    {
     "data": {
      "text/plain": [
       "'10000N_4proc_4NB'"
      ]
     },
     "execution_count": 2,
     "metadata": {},
     "output_type": "execute_result"
    }
   ],
   "source": [
    "openFileName = '10000N_4proc_4NB'\n",
    "with open(openFileName, 'r') as ifile:\n",
    "    filename = ifile.name\n",
    "    raw = ifile.readlines()\n",
    "filename"
   ]
  },
  {
   "cell_type": "markdown",
   "metadata": {},
   "source": [
    "### Description"
   ]
  },
  {
   "cell_type": "code",
   "execution_count": 3,
   "metadata": {},
   "outputs": [],
   "source": [
    "def cut_line(line):\n",
    "    data = line.strip().split(':')\n",
    "    data[0] = data[0].strip()\n",
    "    data[1] = data[1].strip().strip('.')\n",
    "    return data"
   ]
  },
  {
   "cell_type": "code",
   "execution_count": 4,
   "metadata": {},
   "outputs": [
    {
     "data": {
      "text/plain": [
       "{'T/V': 'Wall time / encoded variant',\n",
       " 'N': 'The order of the coefficient matrix A',\n",
       " 'NB': 'The partitioning blocking factor',\n",
       " 'P': 'The number of process rows',\n",
       " 'Q': 'The number of process columns',\n",
       " 'Time': 'Time in seconds to solve the linear system',\n",
       " 'Gflops': 'Rate of execution for solving the linear system'}"
      ]
     },
     "execution_count": 4,
     "metadata": {},
     "output_type": "execute_result"
    }
   ],
   "source": [
    "description = {}\n",
    "for i in range(20, 27):\n",
    "    desc = cut_line(raw[i])\n",
    "    description[desc[0]] = desc[1]\n",
    "description"
   ]
  },
  {
   "cell_type": "markdown",
   "metadata": {},
   "source": [
    "### Parameter"
   ]
  },
  {
   "cell_type": "code",
   "execution_count": 5,
   "metadata": {},
   "outputs": [
    {
     "data": {
      "text/plain": [
       "{'N': '10000',\n",
       " 'NB': '4',\n",
       " 'PMAP': 'Row-major process mapping',\n",
       " 'P': '2',\n",
       " 'Q': '4',\n",
       " 'PFACT': 'Right',\n",
       " 'NBMIN': '4',\n",
       " 'NDIV': '2',\n",
       " 'RFACT': 'Crout',\n",
       " 'BCAST': '1ringM',\n",
       " 'DEPTH': '1',\n",
       " 'SWAP': 'Mix (threshold = 64)',\n",
       " 'L1': 'transposed form',\n",
       " 'U': 'transposed form',\n",
       " 'EQUIL': 'yes',\n",
       " 'ALIGN': '8 double precision words'}"
      ]
     },
     "execution_count": 5,
     "metadata": {},
     "output_type": "execute_result"
    }
   ],
   "source": [
    "parameter = {}\n",
    "for i in range(30, 46):\n",
    "    param = cut_line(raw[i])\n",
    "    parameter[param[0]] = param[1]\n",
    "parameter"
   ]
  },
  {
   "cell_type": "markdown",
   "metadata": {},
   "source": [
    "### Find line"
   ]
  },
  {
   "cell_type": "code",
   "execution_count": 6,
   "metadata": {},
   "outputs": [
    {
     "name": "stdout",
     "output_type": "stream",
     "text": [
      "429 578\n"
     ]
    }
   ],
   "source": [
    "startLine = 'Begin of Summary section.'\n",
    "endLine = 'End of Summary section.'\n",
    "startLinePos = 0\n",
    "endLinePos = 0\n",
    "\n",
    "while startLine not in raw[startLinePos]:\n",
    "    startLinePos += 1\n",
    "#startLinePos += 1\n",
    "\n",
    "while endLine not in raw[endLinePos]:\n",
    "    endLinePos += 1\n",
    "#endLinePos -= 1\n",
    "\n",
    "print(startLinePos,endLinePos)"
   ]
  },
  {
   "cell_type": "markdown",
   "metadata": {},
   "source": [
    "### All result"
   ]
  },
  {
   "cell_type": "code",
   "execution_count": 7,
   "metadata": {},
   "outputs": [],
   "source": [
    "result = {}\n",
    "for i in range(startLinePos+1,endLinePos):\n",
    "    res = raw[i].split('=')\n",
    "    res[1] = res[1].strip()\n",
    "    result[res[0]] = res[1]"
   ]
  },
  {
   "cell_type": "markdown",
   "metadata": {},
   "source": [
    "### Output result"
   ]
  },
  {
   "cell_type": "code",
   "execution_count": 12,
   "metadata": {},
   "outputs": [],
   "source": [
    "resultTitle = ['HPL_N', 'HPL_NB', 'HPL_Tflops']\n",
    "resultData = []\n",
    "for i in resultTitle:\n",
    "    resultData.append(result[i])\n",
    "df = pd.DataFrame(np.array([resultData]), columns = resultTitle)\n",
    "\n",
    "df.to_excel('result.xlsx', sheet_name='Sheet1', index=False)"
   ]
  }
 ],
 "metadata": {
  "kernelspec": {
   "display_name": "Python 3",
   "language": "python",
   "name": "python3"
  },
  "language_info": {
   "codemirror_mode": {
    "name": "ipython",
    "version": 3
   },
   "file_extension": ".py",
   "mimetype": "text/x-python",
   "name": "python",
   "nbconvert_exporter": "python",
   "pygments_lexer": "ipython3",
   "version": "3.7.4"
  }
 },
 "nbformat": 4,
 "nbformat_minor": 2
}
