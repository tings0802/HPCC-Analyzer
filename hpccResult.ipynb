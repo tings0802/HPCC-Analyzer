{
 "cells": [
  {
   "cell_type": "code",
   "execution_count": 9,
   "metadata": {},
   "outputs": [],
   "source": [
    "from openpyxl import Workbook\n",
    "\n",
    "'''\n",
    "inputFileName = \"hpccinf.txt\"\n",
    "outputFileName = \"hpccoutf.txt\"\n",
    "resultFileName = \"\"\n",
    "'''\n",
    "excelFileName = \"result.xlsx\"\n",
    "excelFilePath = \"C:/Users/user/Desktop/\"\n",
    "'''\n",
    "hplN = []\n",
    "hplNB = []\n",
    "hplP = []\n",
    "hplQ = []\n",
    "startN = \n",
    "intervalN =\n",
    "endN =\n",
    "startNB = \n",
    "intervalNB =\n",
    "endNB =\n",
    "startP = \n",
    "intervalP =\n",
    "endP =\n",
    "startQ = \n",
    "intervalQ =\n",
    "endQ =\n",
    "'''\n",
    "dataTitle = [\n",
    "'A2', 'C2'\n",
    "'P x Q', 'N', 'NB'\n",
    "]\n",
    "'''\n",
    "def write_param()\n",
    "def read_file()\n",
    "    inFile = open('','r')\n",
    "'''\n",
    "\n",
    "def output_excel():\n",
    "    wb = Workbook()\n",
    "    ws = wb.active\n",
    "    init_excel(ws)\n",
    "    wb.save(excelFilePath + excelFileName)\n",
    "def init_excel(ws):\n",
    "    for cell in \n",
    "    '''\n",
    "    ws['A2'] = \"P x Q\"\n",
    "    ws['B2'] = \"\"\n",
    "    '''\n",
    "output_excel()"
   ]
  },
  {
   "cell_type": "code",
   "execution_count": 4,
   "metadata": {},
   "outputs": [
    {
     "name": "stdout",
     "output_type": "stream",
     "text": [
      "File `hpcc_result.py` exists. Overwrite (y/[N])?  y\n",
      "The following commands were written to file `hpcc_result.py`:\n",
      "inputFileName = \"hpccinf.txt\"\n",
      "outputFileName = \"hpccoutf.txt\"\n",
      "resultFileName = \"\"\n",
      "excelFileName = \"result.xlsx\"\n",
      "hplN = []\n",
      "hplNB = []\n",
      "hplP = []\n",
      "hplQ = []\n",
      "startN = \n",
      "intervalN =\n",
      "endN =\n",
      "startNB = \n",
      "intervalNB =\n",
      "endNB =\n",
      "startP = \n",
      "intervalP =\n",
      "endP =\n",
      "startQ = \n",
      "intervalQ =\n",
      "endQ =\n",
      "\n",
      "def write_param()\n",
      "def read_file()\n",
      "    inFile = open('','r')\n",
      "def output_excel()\n"
     ]
    }
   ],
   "source": [
    "%save hpcc_result.py 2"
   ]
  },
  {
   "cell_type": "code",
   "execution_count": null,
   "metadata": {},
   "outputs": [],
   "source": []
  }
 ],
 "metadata": {
  "kernelspec": {
   "display_name": "Python 3",
   "language": "python",
   "name": "python3"
  },
  "language_info": {
   "codemirror_mode": {
    "name": "ipython",
    "version": 3
   },
   "file_extension": ".py",
   "mimetype": "text/x-python",
   "name": "python",
   "nbconvert_exporter": "python",
   "pygments_lexer": "ipython3",
   "version": "3.7.4"
  }
 },
 "nbformat": 4,
 "nbformat_minor": 2
}
